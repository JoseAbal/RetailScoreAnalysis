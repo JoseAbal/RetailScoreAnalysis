{
 "cells": [
  {
   "cell_type": "markdown",
   "id": "62834dc7",
   "metadata": {},
   "source": [
    "<h1 align=\"center\">Case 3 - Retail Score Analysis</h1>"
   ]
  },
  {
   "cell_type": "markdown",
   "id": "9eec8b0d",
   "metadata": {},
   "source": [
    "<div align=\"right\">Machine Learning</div>"
   ]
  },
  {
   "cell_type": "markdown",
   "id": "daf46d3f",
   "metadata": {},
   "source": [
    "- Jose Abal Caamaño\n",
    "- Jesús Platero Acevedo"
   ]
  },
  {
   "cell_type": "markdown",
   "id": "5033024f",
   "metadata": {},
   "source": [
    "# Index: \n",
    "## 1. Libraries\n",
    "## 2. Creation of the functions\n",
    "## 3. Read and load the data\n",
    "## 4. XGBoost Optimizated\n",
    "## 5. Interpretability"
   ]
  },
  {
   "cell_type": "markdown",
   "id": "893432d0",
   "metadata": {},
   "source": [
    "# 1. Libraries"
   ]
  },
  {
   "cell_type": "code",
   "execution_count": 1,
   "id": "e664eb60",
   "metadata": {},
   "outputs": [],
   "source": [
    "import pandas as pd\n",
    "import numpy as np\n",
    "import matplotlib.pyplot as plt\n",
    "from xgboost import XGBClassifier\n",
    "from sklearn.pipeline import Pipeline\n",
    "from sklearn.model_selection import GridSearchCV\n",
    "from sklearn.metrics import classification_report, confusion_matrix, roc_curve, accuracy_score, auc,ConfusionMatrixDisplay,\\\n",
    "                            silhouette_score, recall_score, precision_score, make_scorer, \\\n",
    "                            roc_auc_score, f1_score, precision_recall_curve, fbeta_score, r2_score\n",
    "from datetime import datetime\n",
    "\n",
    "from lightgbm import LGBMClassifier\n",
    "import lightgbm as lgb\n",
    "\n",
    "from sklearn.ensemble import RandomForestClassifier\n",
    "from shap import TreeExplainer\n",
    "\n",
    "import xgboost as xgb\n",
    "import pickle\n",
    "import warnings\n",
    "warnings.filterwarnings('ignore')"
   ]
  },
  {
   "cell_type": "markdown",
   "id": "c8653e8e",
   "metadata": {},
   "source": [
    "# 2. Creation of the functions"
   ]
  },
  {
   "cell_type": "code",
   "execution_count": 2,
   "id": "ebf82569",
   "metadata": {},
   "outputs": [],
   "source": [
    "# Functions to be used\n",
    "def evaluate_model(yval, ypred, ypred_proba = None):\n",
    "    if ypred_proba is not None:\n",
    "        print('ROC-AUC score of the model: {}'.format(roc_auc_score(yval, ypred_proba[:, 1])))\n",
    "        print(f'\\nF2 Score: {fbeta_score(yval, ypred, beta=2, average=\"macro\")}\\n')\n",
    "        print(f'R2 Score: {r2_score(yval, ypred)}\\n')\n",
    "        print('Accuracy of the model: {}\\n'.format(accuracy_score(yval, ypred)))\n",
    "        print('Classification report: \\n{}\\n'.format(classification_report(yval, ypred)))\n",
    "        \n",
    "def cargar_modelo(ruta):\n",
    "    return pickle.load(open(ruta, 'rb'))\n",
    "\n",
    "def timer(start_time=None):\n",
    "    if not start_time:\n",
    "        start_time = datetime.now()\n",
    "        return start_time\n",
    "    elif start_time:\n",
    "        thour, temp_sec = divmod((datetime.now() - start_time).total_seconds(), 3600)\n",
    "        tmin, tsec = divmod(temp_sec, 60)\n",
    "        print('\\n Time taken: %i hours %i minutes and %s seconds.' % (thour, tmin, round(tsec, 2)))"
   ]
  },
  {
   "cell_type": "markdown",
   "id": "4cb478ae",
   "metadata": {},
   "source": [
    "# 3. Read and load the data"
   ]
  },
  {
   "cell_type": "code",
   "execution_count": 3,
   "id": "e63a4313",
   "metadata": {},
   "outputs": [],
   "source": [
    "#Import the different datasets\n",
    "xtrain = pd.read_parquet('../data/processed/xtrain.parquet')\n",
    "ytrain = pd.read_parquet('../data/processed/ytrain.parquet')\n",
    "xtest = pd.read_parquet('../data/processed/xtest.parquet')\n",
    "ytest = pd.read_parquet('../data/processed/ytest.parquet')"
   ]
  },
  {
   "cell_type": "code",
   "execution_count": 4,
   "id": "3599a5c5",
   "metadata": {},
   "outputs": [],
   "source": [
    "#Upload the preprocessor of the models\n",
    "preprocessor = cargar_modelo('../models/preprocessor.pickle')"
   ]
  },
  {
   "cell_type": "markdown",
   "id": "545c8aa5",
   "metadata": {},
   "source": [
    "# 4. XGBoost Optimizated"
   ]
  },
  {
   "cell_type": "code",
   "execution_count": 12,
   "id": "9c09892e",
   "metadata": {},
   "outputs": [],
   "source": [
    "# Loading lightgbm model\n",
    "xgboost = cargar_modelo('../models/XGBoost.pickle')"
   ]
  },
  {
   "cell_type": "code",
   "execution_count": 1,
   "id": "bebb95a8",
   "metadata": {},
   "outputs": [],
   "source": [
    "#Parameters\n",
    "seed = 12345\n",
    "test_size = 0.25"
   ]
  },
  {
   "cell_type": "code",
   "execution_count": null,
   "id": "5c24f352",
   "metadata": {},
   "outputs": [],
   "source": [
    "from sklearn.model_selection import train_test_split, GridSearchCV, RandomizedSearchCV\n",
    "from sklearn.model_selection import GridSearchCV\n",
    "\n",
    "params = {\"subsample\":[0.5, 0.75, 1], \n",
    "          \"colsample_bytree\":[0.5, 0.75, 1], \n",
    "          \"max_depth\":[2, 6, 12], \n",
    "          \"min_child_weight\":[1,5,15], \n",
    "          \"learning_rate\":[0.3, 0.1, 0.03],\n",
    "          \"n_estimators\":[100]\n",
    "         }\n",
    "\n",
    "xgb = xgboost.XGBClassifier()\n",
    "best_xgb = RandomizedSearchCV(xgb,params,cv=3,scoring=\"f1_macro\",random_state = seed)\n",
    "best_xgb = best_xgb.fit(x_train, y_train)\n",
    "print(best_xgb.best_params_)"
   ]
  },
  {
   "cell_type": "code",
   "execution_count": null,
   "id": "6d9f7b2c",
   "metadata": {},
   "outputs": [],
   "source": [
    "y_pred_xgb = best_xgb.predict(x_test)\n",
    "\n",
    "y_pred_xgb_prob = best_xgb.predict_proba(x_test)"
   ]
  },
  {
   "cell_type": "code",
   "execution_count": null,
   "id": "8358b5d1",
   "metadata": {},
   "outputs": [],
   "source": [
    "plot_metrics(y_test, y_pred_xgb, y_pred_xgb_prob, Y)"
   ]
  },
  {
   "cell_type": "code",
   "execution_count": null,
   "id": "1faffdb2",
   "metadata": {},
   "outputs": [],
   "source": [
    "best_xgb.best_estimator_"
   ]
  },
  {
   "cell_type": "markdown",
   "id": "a9edd3de",
   "metadata": {},
   "source": [
    "# 5. Interpretability"
   ]
  },
  {
   "cell_type": "code",
   "execution_count": null,
   "id": "75117ae0",
   "metadata": {},
   "outputs": [],
   "source": [
    "import shap\n",
    "\n",
    "explainer = shap.TreeExplainer(best_xgb.best_estimator_)\n",
    "shap_values = explainer.shap_values(x_test)\n",
    "shap.summary_plot(shap_values, x_test)"
   ]
  },
  {
   "cell_type": "code",
   "execution_count": null,
   "id": "4a9331e9",
   "metadata": {},
   "outputs": [],
   "source": [
    "shap.summary_plot(shap_values, x_sampled, plot_type=\"bar\")"
   ]
  },
  {
   "cell_type": "code",
   "execution_count": null,
   "id": "f395a510",
   "metadata": {},
   "outputs": [],
   "source": [
    "shap.initjs()\n",
    "# Using a random sample of the dataframe for better time computation\n",
    "x_sampled = x_train.sample(100, random_state=seed)\n",
    "# explain the model's predictions using SHAP values\n",
    "# (same syntax works for LightGBM, CatBoost, and scikit-learn models)\n",
    "explainer = shap.TreeExplainer(best_xgb.best_estimator_)\n",
    "shap_values = explainer.shap_values(x_sampled)\n",
    "# visualize the first prediction's explanation\n",
    "shap.force_plot(explainer.expected_value, shap_values[0,:], x_sampled.iloc[0,:])"
   ]
  },
  {
   "cell_type": "code",
   "execution_count": null,
   "id": "75cc0119",
   "metadata": {},
   "outputs": [],
   "source": [
    "#Visualize the training set predictions\n",
    "shap.force_plot(explainer.expected_value, shap_values, x_test, link='logit')"
   ]
  }
 ],
 "metadata": {
  "kernelspec": {
   "display_name": "MachineDiego",
   "language": "python",
   "name": "machinediego"
  },
  "language_info": {
   "codemirror_mode": {
    "name": "ipython",
    "version": 3
   },
   "file_extension": ".py",
   "mimetype": "text/x-python",
   "name": "python",
   "nbconvert_exporter": "python",
   "pygments_lexer": "ipython3",
   "version": "3.9.15"
  }
 },
 "nbformat": 4,
 "nbformat_minor": 5
}
